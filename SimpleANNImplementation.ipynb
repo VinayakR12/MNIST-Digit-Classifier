{
  "nbformat": 4,
  "nbformat_minor": 0,
  "metadata": {
    "colab": {
      "provenance": []
    },
    "kernelspec": {
      "name": "python3",
      "display_name": "Python 3"
    },
    "language_info": {
      "name": "python"
    }
  },
  "cells": [
    {
      "cell_type": "markdown",
      "source": [
        "# **Name : Vinayak Murlidhar Rhatankar**\n",
        "\n",
        "# **B.Tech AIML**\n",
        "\n",
        "## ***Experiment No : 1. Simple ANN Implementation***"
      ],
      "metadata": {
        "id": "_JsrYuLPWc7N"
      }
    },
    {
      "cell_type": "code",
      "source": [
        "import tensorflow as tf\n",
        "from tensorflow import keras\n",
        "from tensorflow.keras import Sequential\n",
        "from tensorflow.keras.layers import Dense, Flatten\n",
        "import matplotlib.pyplot as plt\n",
        "\n",
        "(X_train, y_train), (X_test, y_test) = keras.datasets.mnist.load_data()\n",
        "\n",
        "X_train = X_train / 255.0\n",
        "X_test = X_test / 255.0\n",
        "\n",
        "model = Sequential([\n",
        "    Flatten(input_shape=(28, 28)),\n",
        "    Dense(128, activation='relu'),\n",
        "    Dense(10, activation='softmax')\n",
        "])\n",
        "\n",
        "model.compile(loss='sparse_categorical_crossentropy', optimizer='adam', metrics=['accuracy'])\n",
        "model.fit(X_train, y_train, epochs=5, validation_split=0.2)\n",
        "\n",
        "model.save(\"ANNModel.h5\")\n",
        "\n",
        "loss, acc = model.evaluate(X_test, y_test)\n",
        "print(f\"Test Accuracy: {acc:.4f}\")\n"
      ],
      "metadata": {
        "colab": {
          "base_uri": "https://localhost:8080/"
        },
        "id": "a8Dh5Sdy91SM",
        "outputId": "079571dd-9018-4ae8-ad54-7d34aa0039d9"
      },
      "execution_count": null,
      "outputs": [
        {
          "output_type": "stream",
          "name": "stdout",
          "text": [
            "Downloading data from https://storage.googleapis.com/tensorflow/tf-keras-datasets/mnist.npz\n",
            "\u001b[1m11490434/11490434\u001b[0m \u001b[32m━━━━━━━━━━━━━━━━━━━━\u001b[0m\u001b[37m\u001b[0m \u001b[1m0s\u001b[0m 0us/step\n"
          ]
        },
        {
          "output_type": "stream",
          "name": "stderr",
          "text": [
            "/usr/local/lib/python3.11/dist-packages/keras/src/layers/reshaping/flatten.py:37: UserWarning: Do not pass an `input_shape`/`input_dim` argument to a layer. When using Sequential models, prefer using an `Input(shape)` object as the first layer in the model instead.\n",
            "  super().__init__(**kwargs)\n"
          ]
        },
        {
          "output_type": "stream",
          "name": "stdout",
          "text": [
            "Epoch 1/5\n",
            "\u001b[1m1500/1500\u001b[0m \u001b[32m━━━━━━━━━━━━━━━━━━━━\u001b[0m\u001b[37m\u001b[0m \u001b[1m9s\u001b[0m 5ms/step - accuracy: 0.8636 - loss: 0.4839 - val_accuracy: 0.9538 - val_loss: 0.1636\n",
            "Epoch 2/5\n",
            "\u001b[1m1500/1500\u001b[0m \u001b[32m━━━━━━━━━━━━━━━━━━━━\u001b[0m\u001b[37m\u001b[0m \u001b[1m6s\u001b[0m 4ms/step - accuracy: 0.9600 - loss: 0.1393 - val_accuracy: 0.9658 - val_loss: 0.1141\n",
            "Epoch 3/5\n",
            "\u001b[1m1500/1500\u001b[0m \u001b[32m━━━━━━━━━━━━━━━━━━━━\u001b[0m\u001b[37m\u001b[0m \u001b[1m8s\u001b[0m 5ms/step - accuracy: 0.9741 - loss: 0.0915 - val_accuracy: 0.9681 - val_loss: 0.1006\n",
            "Epoch 4/5\n",
            "\u001b[1m1500/1500\u001b[0m \u001b[32m━━━━━━━━━━━━━━━━━━━━\u001b[0m\u001b[37m\u001b[0m \u001b[1m5s\u001b[0m 3ms/step - accuracy: 0.9808 - loss: 0.0665 - val_accuracy: 0.9741 - val_loss: 0.0892\n",
            "Epoch 5/5\n",
            "\u001b[1m1500/1500\u001b[0m \u001b[32m━━━━━━━━━━━━━━━━━━━━\u001b[0m\u001b[37m\u001b[0m \u001b[1m7s\u001b[0m 5ms/step - accuracy: 0.9857 - loss: 0.0490 - val_accuracy: 0.9702 - val_loss: 0.0987\n"
          ]
        },
        {
          "output_type": "stream",
          "name": "stderr",
          "text": [
            "WARNING:absl:You are saving your model as an HDF5 file via `model.save()` or `keras.saving.save_model(model)`. This file format is considered legacy. We recommend using instead the native Keras format, e.g. `model.save('my_model.keras')` or `keras.saving.save_model(model, 'my_model.keras')`. \n"
          ]
        },
        {
          "output_type": "stream",
          "name": "stdout",
          "text": [
            "\u001b[1m313/313\u001b[0m \u001b[32m━━━━━━━━━━━━━━━━━━━━\u001b[0m\u001b[37m\u001b[0m \u001b[1m1s\u001b[0m 2ms/step - accuracy: 0.9679 - loss: 0.1046\n",
            "Test Accuracy: 0.9723\n",
            "\u001b[1m313/313\u001b[0m \u001b[32m━━━━━━━━━━━━━━━━━━━━\u001b[0m\u001b[37m\u001b[0m \u001b[1m0s\u001b[0m 1ms/step\n",
            "Sample Prediction: [7 2 1 0 4 1 4 9 6 9]\n",
            "Actual Labels: [7 2 1 0 4 1 4 9 5 9]\n"
          ]
        }
      ]
    },
    {
      "cell_type": "markdown",
      "source": [
        "# ***Flask Backend***"
      ],
      "metadata": {
        "id": "qzzKwNivXoF4"
      }
    },
    {
      "cell_type": "code",
      "source": [
        "from flask import Flask, render_template, request, jsonify\n",
        "import numpy as np\n",
        "import tensorflow as tf\n",
        "from PIL import Image, ImageOps\n",
        "import io\n",
        "import os\n",
        "\n",
        "model = tf.keras.models.load_model(\"./ANNModel.h5\")\n",
        "\n",
        "app = Flask(__name__)\n",
        "\n",
        "def preprocess_image(image):\n",
        "    \"\"\"Convert uploaded image to MNIST format (28x28, grayscale, normalized)\"\"\"\n",
        "    image = image.convert(\"L\")  # Convert to grayscale\n",
        "    image = ImageOps.invert(image)  # Invert colors (MNIST digits are white-on-black)\n",
        "    image = image.resize((28, 28))  # Resize to 28x28 pixels\n",
        "    image = np.array(image) / 255.0  # Normalize (0-1)\n",
        "    image = image.reshape(1, 28, 28, 1)  # Add batch + channel dimensions\n",
        "    return image\n",
        "\n",
        "@app.route('/')\n",
        "def home():\n",
        "    return render_template('index.html')\n",
        "\n",
        "@app.route('/predict', methods=['POST'])\n",
        "def predict():\n",
        "    if 'file' not in request.files:\n",
        "        return jsonify({\"error\": \"No file uploaded\"})\n",
        "\n",
        "    file = request.files['file']\n",
        "    image = Image.open(io.BytesIO(file.read()))\n",
        "    processed_image = preprocess_image(image)\n",
        "    prediction = model.predict(processed_image)\n",
        "    predicted_digit = int(np.argmax(prediction))\n",
        "    confidence = float(np.max(prediction) * 100)\n",
        "\n",
        "    return jsonify({\"prediction\": predicted_digit, \"confidence\": round(confidence, 2)})\n",
        "#\n",
        "# if __name__ == '__main__':\n",
        "#     app.run(debug=True)\n",
        "\n",
        "if __name__ == '__main__':\n",
        "    port = int(os.environ.get(\"PORT\", 5000))\n",
        "    app.run(host=\"0.0.0.0\", port=port)"
      ],
      "metadata": {
        "id": "e0OnTXp8_6BG"
      },
      "execution_count": null,
      "outputs": []
    },
    {
      "cell_type": "markdown",
      "source": [
        "# ***Frontend Code***"
      ],
      "metadata": {
        "id": "VqZ6Nx8oXuj5"
      }
    },
    {
      "cell_type": "code",
      "source": [
        "<!DOCTYPE html>\n",
        "<html lang=\"en\">\n",
        "<head>\n",
        "    <meta charset=\"UTF-8\">\n",
        "    <meta name=\"viewport\" content=\"width=device-width, initial-scale=1.0\">\n",
        "    <title>MNIST Digit Classifier</title>\n",
        "    <style>\n",
        "        body {\n",
        "            font-family: Arial, sans-serif;\n",
        "            background-color: #f9fafb;\n",
        "            margin: 0;\n",
        "            padding: 0;\n",
        "        }\n",
        "\n",
        "        header, footer {\n",
        "            background-color: #3f51b5;\n",
        "            color: white;\n",
        "            padding: 15px;\n",
        "            text-align: center;\n",
        "        }\n",
        "\n",
        "        footer {\n",
        "            font-size: 14px;\n",
        "        }\n",
        "\n",
        "        .container {\n",
        "            max-width: 450px;\n",
        "            margin: 40px auto;\n",
        "            background: #ffffff;\n",
        "            padding: 25px;\n",
        "            border-radius: 12px;\n",
        "            box-shadow: 0 4px 15px rgba(0, 0, 0, 0.1);\n",
        "            text-align: center;\n",
        "        }\n",
        "\n",
        "        .container h2 {\n",
        "            margin-bottom: 15px;\n",
        "            color: #333;\n",
        "        }\n",
        "\n",
        "        .upload-label {\n",
        "            display: block;\n",
        "            margin-bottom: 10px;\n",
        "            font-weight: bold;\n",
        "            color: #555;\n",
        "        }\n",
        "\n",
        "        input[type=\"file\"] {\n",
        "            padding: 10px;\n",
        "            border: 2px solid #3f51b5;\n",
        "            border-radius: 8px;\n",
        "            background-color: #f0f2ff;\n",
        "            cursor: pointer;\n",
        "            width: 96%;\n",
        "        }\n",
        "\n",
        "        #imageContainer {\n",
        "            margin-top: 20px;\n",
        "            width: 100%;\n",
        "            height: 220px;\n",
        "            border: 1px solid #ddd;\n",
        "            border-radius: 10px;\n",
        "            display: flex;\n",
        "            justify-content: center;\n",
        "            align-items: center;\n",
        "            background-color: white;\n",
        "            overflow: hidden;\n",
        "        }\n",
        "\n",
        "        #imagePreview {\n",
        "            max-width: 100%;\n",
        "            max-height: 100%;\n",
        "        }\n",
        "\n",
        "        button {\n",
        "            padding: 12px 20px;\n",
        "            margin-top: 15px;\n",
        "            background-color: #3f51b5;\n",
        "            color: white;\n",
        "            font-size: 16px;\n",
        "            border: none;\n",
        "            border-radius: 6px;\n",
        "            cursor: pointer;\n",
        "            width: 100%;\n",
        "            transition: background-color 0.3s;\n",
        "        }\n",
        "\n",
        "        button:hover {\n",
        "            background-color: #2e3b91;\n",
        "        }\n",
        "\n",
        "        #resultBox {\n",
        "            margin-top: 20px;\n",
        "            padding: 15px;\n",
        "            background: #e8f5e9;\n",
        "            border-radius: 8px;\n",
        "            border-left: 5px solid #4caf50;\n",
        "            display: none;\n",
        "            color: #2e7d32;\n",
        "            font-weight: bold;\n",
        "        }\n",
        "\n",
        "        @media (max-width: 500px) {\n",
        "            .container {\n",
        "                margin: 20px;\n",
        "                padding: 15px;\n",
        "            }\n",
        "        }\n",
        "    </style>\n",
        "    <script>\n",
        "        function previewImage(event) {\n",
        "            let reader = new FileReader();\n",
        "            reader.onload = function (e) {\n",
        "                document.getElementById(\"imagePreview\").src = e.target.result;\n",
        "            };\n",
        "            reader.readAsDataURL(event.target.files[0]);\n",
        "        }\n",
        "\n",
        "        function uploadImage() {\n",
        "            let formData = new FormData();\n",
        "            let file = document.getElementById(\"imageInput\").files[0];\n",
        "            if (!file) {\n",
        "                alert(\"Please select an image first!\");\n",
        "                return;\n",
        "            }\n",
        "            formData.append(\"file\", file);\n",
        "            fetch(\"/predict\", { method: \"POST\", body: formData })\n",
        "                .then(response => response.json())\n",
        "                .then(data => {\n",
        "                    document.getElementById(\"resultBox\").style.display = \"block\";\n",
        "                    document.getElementById(\"resultBox\").innerText =\n",
        "                        \"Predicted Digit: \" + data.prediction;\n",
        "                })\n",
        "                .catch(err => console.error(err));\n",
        "        }\n",
        "    </script>\n",
        "</head>\n",
        "<body>\n",
        "\n",
        "<header>\n",
        "    <h1>MNIST Digit Classifier</h1>\n",
        "</header>\n",
        "\n",
        "<div class=\"container\">\n",
        "    <h2>Upload an Image </h2>\n",
        "    <label class=\"upload-label\" for=\"imageInput\">Select a digit image (28x28 pixel preferred)</label>\n",
        "    <input type=\"file\" id=\"imageInput\" accept=\"image/*\" onchange=\"previewImage(event)\">\n",
        "    <div id=\"imageContainer\">\n",
        "        <img id=\"imagePreview\" src=\"\">\n",
        "    </div>\n",
        "    <button onclick=\"uploadImage()\">Predict</button>\n",
        "    <div id=\"resultBox\"></div>\n",
        "</div>\n",
        "\n",
        "<footer>\n",
        "    &copy; <span id=\"year\"></span> MNIST Digit Classifier | Developed by <strong>Vinayak Rhatankar</strong>\n",
        "</footer>\n",
        "\n",
        "<script>\n",
        "    document.getElementById(\"year\").textContent = new Date().getFullYear();\n",
        "</script>\n",
        "</body>\n",
        "</html>\n"
      ],
      "metadata": {
        "id": "-Xosifp2WagT"
      },
      "execution_count": null,
      "outputs": []
    }
  ]
}